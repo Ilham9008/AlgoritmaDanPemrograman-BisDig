{
  "nbformat": 4,
  "nbformat_minor": 0,
  "metadata": {
    "colab": {
      "provenance": []
    },
    "kernelspec": {
      "name": "python3",
      "display_name": "Python 3"
    },
    "language_info": {
      "name": "python"
    }
  },
  "cells": [
    {
      "cell_type": "code",
      "execution_count": 1,
      "metadata": {
        "colab": {
          "base_uri": "https://localhost:8080/"
        },
        "id": "sO2SiPEoAtwv",
        "outputId": "4375e904-1c3b-4368-9915-a7045493adbe"
      },
      "outputs": [
        {
          "output_type": "stream",
          "name": "stdout",
          "text": [
            "Masukkan nilai siswa ke-1: 80\n",
            "Masukkan nilai siswa ke-2: 75\n",
            "Masukkan nilai siswa ke-3: 81\n",
            "Masukkan nilai siswa ke-4: 77\n",
            "Masukkan nilai siswa ke-5: 78\n",
            "Nilai tertinggi adalah: 81\n",
            "Didapatkan oleh siswa ke-3\n"
          ]
        }
      ],
      "source": [
        "# Inisialisasi list kosong untuk menyimpan nilai\n",
        "nilai_siswa = []\n",
        "\n",
        "# Input nilai 5 siswa menggunakan perulangan\n",
        "for i in range(5):\n",
        "    nilai = int(input(f\"Masukkan nilai siswa ke-{i+1}: \"))\n",
        "    nilai_siswa.append(nilai)\n",
        "\n",
        "# Menentukan nilai tertinggi dan posisi siswa\n",
        "nilai_tertinggi = max(nilai_siswa)\n",
        "siswa_tertinggi = nilai_siswa.index(nilai_tertinggi) + 1\n",
        "\n",
        "# Menampilkan hasil\n",
        "print(f\"Nilai tertinggi adalah: {nilai_tertinggi}\")\n",
        "print(f\"Didapatkan oleh siswa ke-{siswa_tertinggi}\")"
      ]
    }
  ]
}