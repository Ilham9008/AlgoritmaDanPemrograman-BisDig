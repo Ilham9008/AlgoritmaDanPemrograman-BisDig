{
  "nbformat": 4,
  "nbformat_minor": 0,
  "metadata": {
    "colab": {
      "provenance": []
    },
    "kernelspec": {
      "name": "python3",
      "display_name": "Python 3"
    },
    "language_info": {
      "name": "python"
    }
  },
  "cells": [
    {
      "cell_type": "code",
      "execution_count": 1,
      "metadata": {
        "colab": {
          "base_uri": "https://localhost:8080/"
        },
        "id": "wNub-2UpCb4V",
        "outputId": "6cf9a7c7-7e34-46dd-9803-1874b61bc04e"
      },
      "outputs": [
        {
          "output_type": "stream",
          "name": "stdout",
          "text": [
            "Masukkan harga barang ke-3: 45.000\n",
            "Total pembayaran adalah: Rp210095.00\n"
          ]
        }
      ],
      "source": [
        "# Inisialisasi list harga\n",
        "harga_barang = []\n",
        "\n",
        "# Input harga 3 barang menggunakan perulangan\n",
        "for i in range(3):\n",
        "    harga = float(input(f\"Masukkan harga barang ke-{i+1}: \"))\n",
        "    harga_barang.append(harga)\n",
        "\n",
        "# Hitung total pembayaran\n",
        "total = sum(harga_barang)\n",
        "\n",
        "# Tampilkan total pembayaran\n",
        "print(f\"Total pembayaran adalah: Rp{total:.2f}\")"
      ]
    }
  ]
}