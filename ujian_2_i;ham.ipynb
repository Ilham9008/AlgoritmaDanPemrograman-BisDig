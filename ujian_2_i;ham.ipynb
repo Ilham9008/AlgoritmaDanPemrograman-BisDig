{
  "nbformat": 4,
  "nbformat_minor": 0,
  "metadata": {
    "colab": {
      "provenance": []
    },
    "kernelspec": {
      "name": "python3",
      "display_name": "Python 3"
    },
    "language_info": {
      "name": "python"
    }
  },
  "cells": [
    {
      "cell_type": "code",
      "execution_count": 1,
      "metadata": {
        "colab": {
          "base_uri": "https://localhost:8080/"
        },
        "id": "8kedhIHw7JyD",
        "outputId": "73a26123-99a5-4e5c-ff6f-70afc6ebb5c1"
      },
      "outputs": [
        {
          "output_type": "stream",
          "name": "stdout",
          "text": [
            "Masukkan nilai pertama: 74\n",
            "Masukkan nilai kedua: 63\n",
            "Masukkan nilai ketiga: 50\n",
            "Tidak Lulus\n"
          ]
        }
      ],
      "source": [
        "# Meminta input nilai dari pengguna\n",
        "nilai1 = float(input(\"Masukkan nilai pertama: \"))\n",
        "nilai2 = float(input(\"Masukkan nilai kedua: \"))\n",
        "nilai3 = float(input(\"Masukkan nilai ketiga: \"))\n",
        "\n",
        "# Menghitung rata-rata\n",
        "rata_rata = (nilai1 + nilai2 + nilai3) / 3\n",
        "\n",
        "# Menentukan kelulusan\n",
        "if rata_rata >= 75:\n",
        "    print(\"Lulus\")\n",
        "else:\n",
        "    print(\"Tidak Lulus\")"
      ]
    }
  ]
}