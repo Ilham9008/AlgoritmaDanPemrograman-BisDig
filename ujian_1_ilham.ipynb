{
  "nbformat": 4,
  "nbformat_minor": 0,
  "metadata": {
    "colab": {
      "provenance": []
    },
    "kernelspec": {
      "name": "python3",
      "display_name": "Python 3"
    },
    "language_info": {
      "name": "python"
    }
  },
  "cells": [
    {
      "cell_type": "markdown",
      "source": [
        "ujian 1"
      ],
      "metadata": {
        "id": "8uGbVVl15gGD"
      }
    },
    {
      "cell_type": "code",
      "source": [
        "# Program menghitung total bayar setelah diskon jika memenuhi syarat\n",
        "\n",
        "# Input total belanja dari pengguna\n",
        "total_belanja = float(input(\"Masukkan total belanja Anda: Rp\"))\n",
        "\n",
        "# Cek apakah berhak mendapat diskon\n",
        "if total_belanja > 500000:\n",
        "    diskon = 0.10 * total_belanja\n",
        "    total_bayar = total_belanja - diskon\n",
        "    print(f\"Anda mendapatkan diskon 10% sebesar Rp{diskon:.2f}\")\n",
        "else:\n",
        "    total_bayar = total_belanja\n",
        "    print(\"Anda tidak mendapatkan diskon.\")\n",
        "\n",
        "# Tampilkan total yang harus dibayar\n",
        "print(f\"Total bayar: Rp{total_bayar:.2f}\")"
      ],
      "metadata": {
        "colab": {
          "base_uri": "https://localhost:8080/"
        },
        "id": "ZxWMPkpk5M_T",
        "outputId": "20cbb901-e570-4ede-ddcc-50af941cec38"
      },
      "execution_count": 5,
      "outputs": [
        {
          "output_type": "stream",
          "name": "stdout",
          "text": [
            "Masukkan total belanja Anda: Rp35.000\n",
            "Anda tidak mendapatkan diskon.\n",
            "Total bayar: Rp35.00\n"
          ]
        }
      ]
    }
  ]
}